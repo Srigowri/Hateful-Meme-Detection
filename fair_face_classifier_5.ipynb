{
  "nbformat": 4,
  "nbformat_minor": 0,
  "metadata": {
    "colab": {
      "name": "fair_face_classifier_5.ipynb",
      "provenance": [],
      "collapsed_sections": []
    },
    "kernelspec": {
      "name": "python3",
      "display_name": "Python 3"
    },
    "language_info": {
      "name": "python"
    },
    "accelerator": "GPU"
  },
  "cells": [
    {
      "cell_type": "code",
      "metadata": {
        "id": "10-9mdZvhY64",
        "colab": {
          "base_uri": "https://localhost:8080/"
        },
        "outputId": "8d3ba7f3-40cf-446e-9e8b-67a7339a75ed"
      },
      "source": [
        "!git clone https://github.com/HimariO/FairFace.git FairFace \n",
        "%cd FairFace"
      ],
      "execution_count": null,
      "outputs": [
        {
          "output_type": "stream",
          "name": "stdout",
          "text": [
            "Cloning into 'FairFace'...\n",
            "remote: Enumerating objects: 224, done.\u001b[K\n",
            "remote: Total 224 (delta 0), reused 0 (delta 0), pack-reused 224\u001b[K\n",
            "Receiving objects: 100% (224/224), 165.06 MiB | 29.98 MiB/s, done.\n",
            "Resolving deltas: 100% (109/109), done.\n",
            "Checking out files: 100% (30/30), done.\n",
            "/content/FairFace\n"
          ]
        }
      ]
    },
    {
      "cell_type": "code",
      "metadata": {
        "id": "Vkr4vF72K9Ik"
      },
      "source": [
        "!pip install loguru\n",
        "!pip install dlib\n",
        "!pip install fire"
      ],
      "execution_count": null,
      "outputs": []
    },
    {
      "cell_type": "code",
      "metadata": {
        "id": "FOWdBvMAMMj8",
        "colab": {
          "base_uri": "https://localhost:8080/",
          "height": 88
        },
        "outputId": "834dfbba-53f4-4e64-a3a1-7bf9427a28ad"
      },
      "source": [
        "import os\n",
        "from google.colab import drive\n",
        "drive.mount('/content/drive')\n",
        "# print(os.chdir(r'/content/drive/MyDrive/MTECH PROJECT/root'))\n",
        "print(os.getcwd())\n",
        "cwd = os.path.join(r'/content/drive/MyDrive/MTECH PROJECT/root','data','hateful_memes')\n",
        "cwd"
      ],
      "execution_count": null,
      "outputs": [
        {
          "output_type": "stream",
          "name": "stdout",
          "text": [
            "Drive already mounted at /content/drive; to attempt to forcibly remount, call drive.mount(\"/content/drive\", force_remount=True).\n",
            "/content\n"
          ]
        },
        {
          "output_type": "execute_result",
          "data": {
            "application/vnd.google.colaboratory.intrinsic+json": {
              "type": "string"
            },
            "text/plain": [
              "'/content/drive/MyDrive/MTECH PROJECT/root/data/hateful_memes'"
            ]
          },
          "metadata": {},
          "execution_count": 1
        }
      ]
    },
    {
      "cell_type": "code",
      "metadata": {
        "id": "L-tl4hCUH4Vh"
      },
      "source": [
        "!chmod +x FairFace"
      ],
      "execution_count": null,
      "outputs": []
    },
    {
      "cell_type": "code",
      "metadata": {
        "colab": {
          "base_uri": "https://localhost:8080/",
          "height": 67
        },
        "id": "wOBbmTFXJQr5",
        "outputId": "3b797868-0b2c-4de1-8764-b0a6c5dfc4b3"
      },
      "source": [
        "%cd FairFace\n",
        "%pwd"
      ],
      "execution_count": null,
      "outputs": [
        {
          "output_type": "stream",
          "name": "stdout",
          "text": [
            "/content/FairFace\n"
          ]
        },
        {
          "output_type": "execute_result",
          "data": {
            "application/vnd.google.colaboratory.intrinsic+json": {
              "type": "string"
            },
            "text/plain": [
              "'/content/FairFace'"
            ]
          },
          "metadata": {},
          "execution_count": 7
        }
      ]
    },
    {
      "cell_type": "code",
      "metadata": {
        "id": "5GQqC2hNMDEn"
      },
      "source": [
        "!python3 /content/FairFace/inference.py detect_race_mp \\\n",
        "/content/drive/MyDrive/MTECH\\ PROJECT/root/data/hateful_memes/box_annos.json \\\n",
        "/content/drive/MyDrive/MTECH\\ PROJECT/root/data/hateful_memes/img_clean \\\n",
        "/content/drive/MyDrive/MTECH\\ PROJECT/root/data/hateful_memes/face_race_boxes.json \n"
      ],
      "execution_count": null,
      "outputs": []
    },
    {
      "cell_type": "code",
      "metadata": {
        "id": "712RYmyQIYuE"
      },
      "source": [
        ""
      ],
      "execution_count": null,
      "outputs": []
    },
    {
      "cell_type": "code",
      "metadata": {
        "id": "WLZxYQEvHGPV"
      },
      "source": [
        "!python3 inference.py detect_race_mp \\\n",
        "/content/drive/MyDrive/MTECH PROJECT/root/data/hateful_memes/img_clean \\\n",
        "/content/drive/MyDrive/MTECH PROJECT/root/data/hateful_memes/box_annos.json \\\n",
        "/content/drive/MyDrive/MTECH PROJECT/root/data/hateful_memes/face_race_boxes.json\n",
        "\n",
        "!python3 inference.py map_race_to_person_box \\\n",
        "/content/drive/MyDrive/MTECH PROJECT/root/data/hateful_memes/img_clean \\\n",
        "/content/drive/MyDrive/MTECH PROJECT/root/data/hateful_memes/box_annos.json \\\n",
        "/content/drive/MyDrive/MTECH PROJECT/root/data/hateful_memes/face_race_boxes.json"
      ],
      "execution_count": null,
      "outputs": []
    }
  ]
}