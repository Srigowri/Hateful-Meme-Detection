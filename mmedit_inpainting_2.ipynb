{
  "nbformat": 4,
  "nbformat_minor": 0,
  "metadata": {
    "accelerator": "GPU",
    "colab": {
      "name": "mmedit_inpainting_2.ipynb",
      "provenance": [],
      "collapsed_sections": []
    },
    "kernelspec": {
      "display_name": "Python 3",
      "name": "python3"
    },
    "language_info": {
      "name": "python"
    }
  },
  "cells": [
    {
      "cell_type": "markdown",
      "metadata": {
        "id": "mG2PtV4XLbaF"
      },
      "source": [
        "Reference: \n",
        "https://colab.research.google.com/github/styler00dollar/Colab-mmediting/blob/master/Colab-mmediting.ipynb?authuser=1#scrollTo=h75uv5KNrNBZ"
      ]
    },
    {
      "cell_type": "code",
      "metadata": {
        "colab": {
          "base_uri": "https://localhost:8080/"
        },
        "id": "HgyDMwCZsn5A",
        "outputId": "55e28ce4-4a37-4b60-de9c-3b7cba7a6a5c"
      },
      "source": [
        "!python -V"
      ],
      "execution_count": null,
      "outputs": [
        {
          "output_type": "stream",
          "name": "stdout",
          "text": [
            "Python 3.7.13\n"
          ]
        }
      ]
    },
    {
      "cell_type": "code",
      "metadata": {
        "colab": {
          "base_uri": "https://localhost:8080/",
          "height": 35
        },
        "id": "xiGSM3LqsknR",
        "outputId": "e8549b9c-98d7-46c7-f626-ca9fc7783167"
      },
      "source": [
        "import torch\n",
        "torch.__version__"
      ],
      "execution_count": null,
      "outputs": [
        {
          "output_type": "execute_result",
          "data": {
            "text/plain": [
              "'1.10.0+cu111'"
            ],
            "application/vnd.google.colaboratory.intrinsic+json": {
              "type": "string"
            }
          },
          "metadata": {},
          "execution_count": 4
        }
      ]
    },
    {
      "cell_type": "code",
      "metadata": {
        "id": "5rErmV_xsf_e"
      },
      "source": [
        "%cd /content/\n",
        "\n",
        "\n",
        "# !pip install mmcv-full -f https://download.openmmlab.com/mmcv/dist/cu102/torch1.9.0/index.html\n",
        "!pip install mmcv-full -f https://download.openmmlab.com/mmcv/dist/cu111/torch1.9.0/index.html\n",
        "\n",
        "!git clone https://github.com/open-mmlab/mmediting mmediting\n",
        "\n",
        "%cd mmediting\n",
        "!pip install -r requirements.txt\n",
        "!pip install -v -e .  # or \"python setup.py develop\"\n",
        "!pip install tensorboard"
      ],
      "execution_count": null,
      "outputs": []
    },
    {
      "cell_type": "code",
      "metadata": {
        "id": "MaRv6pKXtk5_"
      },
      "source": [
        "%cd /content/\n",
        "!mkdir /content/models/\n",
        "# deepfillv2\n",
        "!wget --no-check-certificate 'https://openmmlab.oss-accelerate.aliyuncs.com/mmediting/inpainting/deepfillv2/deepfillv2_256x256_8x2_places_20200619-10d15793.pth' -O /content/models/deepfillv2_256x256_8x2_places.pth\n",
        "\n",
        "!wget --no-check-certificate 'https://openmmlab.oss-accelerate.aliyuncs.com/mmediting/inpainting/deepfillv2/deepfillv2_256x256_8x2_celeba_20200619-c96e5f12.pth' -O /content/models/deepfillv2_256x256_8x2_celeba.pth\n",
        "%cd /content/mmediting\n",
        "\n"
      ],
      "execution_count": null,
      "outputs": []
    },
    {
      "cell_type": "code",
      "metadata": {
        "colab": {
          "base_uri": "https://localhost:8080/"
        },
        "id": "qnwsyRJIzEef",
        "outputId": "c8216619-b791-4305-b1ef-dd120debbfcc"
      },
      "source": [
        "#@title Connect Google Drive\n",
        "from google.colab import drive\n",
        "drive.mount('/content/drive')\n",
        "print('Google Drive connected.')"
      ],
      "execution_count": null,
      "outputs": [
        {
          "output_type": "stream",
          "name": "stdout",
          "text": [
            "Mounted at /content/drive\n",
            "Google Drive connected.\n"
          ]
        }
      ]
    },
    {
      "cell_type": "code",
      "metadata": {
        "colab": {
          "base_uri": "https://localhost:8080/",
          "height": 53
        },
        "id": "qLHitSjxuwVx",
        "outputId": "df2c9817-0056-4fc7-dcf2-f8858df72412"
      },
      "source": [
        "#no need to run this\n",
        "\"\"\"\n",
        "\n",
        "import os\n",
        "cwd = os.path.join(r'/content/drive/MyDrive/MTECH PROJECT/root','data','hateful_memes')\n",
        "maskPath =  os.path.join(cwd,'img_mask_3px')\n",
        "inpaintResultPath =  os.path.join(cwd,'img_clean')\n",
        "print(maskPath,inpaintResultPath)\n",
        "\"\"\""
      ],
      "execution_count": null,
      "outputs": [
        {
          "output_type": "execute_result",
          "data": {
            "text/plain": [
              "\"\\n\\nimport os\\ncwd = os.path.join(r'/content/drive/MyDrive/MTECH PROJECT/root','data','hateful_memes')\\nmaskPath =  os.path.join(cwd,'img_mask_3px')\\ninpaintResultPath =  os.path.join(cwd,'img_clean')\\nprint(maskPath,inpaintResultPath)\\n\""
            ],
            "application/vnd.google.colaboratory.intrinsic+json": {
              "type": "string"
            }
          },
          "metadata": {},
          "execution_count": 8
        }
      ]
    },
    {
      "cell_type": "code",
      "metadata": {
        "id": "OfQvwCYHtqjO"
      },
      "source": [
        "!ls /content/drive/MyDrive/MTECH\\ PROJECT/root/data/hateful_memes/img/ | wc -l\n",
        "!ls /content/drive/MyDrive/MTECH\\ PROJECT/root/data/hateful_memes/masks/ | wc -l\n",
        "!ls /content/drive/MyDrive/MTECH\\ PROJECT/root/data/hateful_memes/textless_img/ | wc -l\n",
        "# !ls /content/drive/MyDrive/MTECH\\ PROJECT/root/data/hateful_memes/img_mask_3px/ | wc -l"
      ],
      "execution_count": null,
      "outputs": []
    },
    {
      "cell_type": "code",
      "metadata": {
        "id": "JApEGp5Wym5H",
        "colab": {
          "base_uri": "https://localhost:8080/"
        },
        "outputId": "646d6e8a-873a-4390-ff70-f1375e36cf66"
      },
      "source": [
        "# !mkdir /content/drive/MyDrive/MTECH\\ PROJECT/root/data/hateful_memes/textless_img\n",
        "!cp -n /content/drive/MyDrive/MTECH\\ PROJECT/root/data/hateful_memes/img_mask_3px/*.mask.png /content/drive/MyDrive/MTECH\\ PROJECT/root/data/hateful_memes/textless_img/"
      ],
      "execution_count": null,
      "outputs": [
        {
          "output_type": "stream",
          "name": "stdout",
          "text": [
            "cp: cannot stat '/content/drive/MyDrive/MTECH PROJECT/root/data/hateful_memes/img_mask_3px/*.mask.png': No such file or directory\n"
          ]
        }
      ]
    },
    {
      "cell_type": "code",
      "metadata": {
        "id": "w7tQ55Fb0M7p",
        "colab": {
          "base_uri": "https://localhost:8080/"
        },
        "outputId": "89386210-1bbd-4050-d390-dc01d32b94f0"
      },
      "source": [
        "# !mkdir /content/drive/MyDrive/MTECH\\ PROJECT/root/data/hateful_memes/masks\n",
        "# !ls /content/drive/MyDrive/MTECH\\ PROJECT/root/data/hateful_memes/img_mask_3px/[0-9][0-9][0-9][0-9][0-9].png | wc -l\n",
        "\n",
        "!cp -n /content/drive/MyDrive/MTECH\\ PROJECT/root/data/hateful_memes/img_mask_3px/[0-9][0-9][0-9][0-9][0-9].png /content/drive/MyDrive/MTECH\\ PROJECT/root/data/hateful_memes/masks/"
      ],
      "execution_count": null,
      "outputs": [
        {
          "output_type": "stream",
          "name": "stdout",
          "text": [
            "cp: cannot stat '/content/drive/MyDrive/MTECH PROJECT/root/data/hateful_memes/img_mask_3px/[0-9][0-9][0-9][0-9][0-9].png': No such file or directory\n"
          ]
        }
      ]
    },
    {
      "cell_type": "code",
      "metadata": {
        "id": "F4JtAYBMgDuP",
        "colab": {
          "base_uri": "https://localhost:8080/"
        },
        "outputId": "a2f6dcfc-7ed6-45dc-9292-a2651ec008f5"
      },
      "source": [
        "!ls /content/drive/MyDrive/MTECH\\ PROJECT/root/data/hateful_memes/img_clean"
      ],
      "execution_count": null,
      "outputs": [
        {
          "output_type": "stream",
          "name": "stdout",
          "text": [
            "ls: cannot access '/content/drive/MyDrive/MTECH PROJECT/root/data/hateful_memes/img_clean': No such file or directory\n"
          ]
        }
      ]
    },
    {
      "cell_type": "markdown",
      "metadata": {
        "id": "g9a-AX547qWV"
      },
      "source": [
        "Batch Prediction"
      ]
    },
    {
      "cell_type": "code",
      "metadata": {
        "colab": {
          "base_uri": "https://localhost:8080/"
        },
        "id": "0q9s4K6P2N8H",
        "outputId": "01e5dbf0-a914-4486-d0a5-64820d808faf"
      },
      "source": [
        "%%writefile /content/mmediting/demo/batch_inpaint.py\n",
        "\n",
        "import argparse\n",
        "\n",
        "import mmcv\n",
        "import torch\n",
        "\n",
        "from mmedit.apis import init_model, inpainting_inference\n",
        "from mmedit.core import tensor2img\n",
        "\n",
        "import glob\n",
        "from tqdm import tqdm\n",
        "import os\n",
        "\n",
        "def parse_args():\n",
        "    parser = argparse.ArgumentParser(description='Inpainting demo')\n",
        "    parser.add_argument('--config', help='test config file path')\n",
        "    parser.add_argument('--checkpoint', help='checkpoint file')\n",
        "    parser.add_argument('--input', help='input images')\n",
        "    parser.add_argument('--masks', help='monochrome masks')\n",
        "    parser.add_argument('--output', help='path to save inpainting result')\n",
        "    parser.add_argument(\n",
        "        '--imshow', action='store_true', help='whether show image with opencv')\n",
        "    parser.add_argument('--device', type=int, default=0, help='CUDA device id')\n",
        "    args = parser.parse_args()\n",
        "    return args\n",
        "\n",
        "\n",
        "\n",
        "def main():\n",
        "    args = parse_args()\n",
        "\n",
        "    model = init_model(\n",
        "        args.config, args.checkpoint, device=torch.device('cuda', args.device))\n",
        "\n",
        "    # original image\n",
        "    files = glob.glob(args.input + '/*.png', recursive=True)\n",
        "    files_jpg = glob.glob(args.input + '/*.jpg', recursive=True)\n",
        "    files.extend(files_jpg)\n",
        "\n",
        "\n",
        "    for f in tqdm(files):\n",
        "\n",
        "      # creating mask\n",
        "\n",
        "      #image_filepath = f\n",
        "      print(f)\n",
        "      mask_filepath = os.path.join(args.masks, os.path.splitext(os.path.basename(f))[0] + '.mask.png')      \n",
        "      save_path = os.path.join(args.output, os.path.splitext(os.path.basename(f))[0] + '.png')      \n",
        "      result = inpainting_inference(model, f, mask_filepath)\n",
        "      result = tensor2img(result, min_max=(-1, 1))[..., ::-1]\n",
        "\n",
        "      \n",
        "\n",
        "      mmcv.imwrite(result, save_path)\n",
        "\n",
        "      #if args.imshow:\n",
        "      #    mmcv.imshow(result, 'predicted inpainting result')\n",
        "\n",
        "\n",
        "if __name__ == '__main__':\n",
        "    main()"
      ],
      "execution_count": null,
      "outputs": [
        {
          "output_type": "stream",
          "name": "stdout",
          "text": [
            "Writing /content/mmediting/demo/batch_inpaint.py\n"
          ]
        }
      ]
    },
    {
      "cell_type": "code",
      "metadata": {
        "colab": {
          "base_uri": "https://localhost:8080/"
        },
        "id": "2yyu02Fj5M76",
        "outputId": "c8de5325-9333-4db5-8c08-fd2a231214f7"
      },
      "source": [
        "!python demo/batch_inpaint.py \\\n",
        "    --config configs/inpainting/deepfillv2/deepfillv2_256x256_8x2_places.py \\\n",
        "    --checkpoint /content/models/deepfillv2_256x256_8x2_places.pth \\\n",
        "    --input /content/drive/MyDrive/MTECH\\ PROJECT/root/data/hateful_memes/textless_img/ \\\n",
        "    --masks /content/drive/MyDrive/MTECH\\ PROJECT/root/data/hateful_memes/masks/ \\\n",
        "    --output /content/drive/MyDrive/MTECH\\ PROJECT/root/data/hateful_memes/img_clean"
      ],
      "execution_count": null,
      "outputs": [
        {
          "output_type": "stream",
          "name": "stdout",
          "text": [
            "Traceback (most recent call last):\n",
            "  File \"demo/batch_inpaint.py\", line 7, in <module>\n",
            "    from mmedit.apis import init_model, inpainting_inference\n",
            "  File \"/content/mmediting/mmedit/apis/__init__.py\", line 4, in <module>\n",
            "    from .matting_inference import init_model, matting_inference\n",
            "  File \"/content/mmediting/mmedit/apis/matting_inference.py\", line 8, in <module>\n",
            "    from mmedit.models import build_model\n",
            "  File \"/content/mmediting/mmedit/models/__init__.py\", line 2, in <module>\n",
            "    from .backbones import *  # noqa: F401, F403\n",
            "  File \"/content/mmediting/mmedit/models/backbones/__init__.py\", line 14, in <module>\n",
            "    from .sr_backbones import (EDSR, LIIFEDSR, LIIFRDN, RDN, SRCNN, BasicVSRNet,\n",
            "  File \"/content/mmediting/mmedit/models/backbones/sr_backbones/__init__.py\", line 3, in <module>\n",
            "    from .basicvsr_pp import BasicVSRPlusPlus\n",
            "  File \"/content/mmediting/mmedit/models/backbones/sr_backbones/basicvsr_pp.py\", line 6, in <module>\n",
            "    from mmcv.ops import ModulatedDeformConv2d, modulated_deform_conv2d\n",
            "  File \"/usr/local/lib/python3.7/dist-packages/mmcv/ops/__init__.py\", line 2, in <module>\n",
            "    from .active_rotated_filter import active_rotated_filter\n",
            "  File \"/usr/local/lib/python3.7/dist-packages/mmcv/ops/active_rotated_filter.py\", line 10, in <module>\n",
            "    ['active_rotated_filter_forward', 'active_rotated_filter_backward'])\n",
            "  File \"/usr/local/lib/python3.7/dist-packages/mmcv/utils/ext_loader.py\", line 13, in load_ext\n",
            "    ext = importlib.import_module('mmcv.' + name)\n",
            "  File \"/usr/lib/python3.7/importlib/__init__.py\", line 127, in import_module\n",
            "    return _bootstrap._gcd_import(name[level:], package, level)\n",
            "ImportError: /usr/local/lib/python3.7/dist-packages/mmcv/_ext.cpython-37m-x86_64-linux-gnu.so: undefined symbol: _ZNK2at6Tensor4add_ERKS0_RKN3c106ScalarE\n"
          ]
        }
      ]
    },
    {
      "cell_type": "code",
      "metadata": {
        "colab": {
          "base_uri": "https://localhost:8080/"
        },
        "id": "Er8ApwQ6CAQf",
        "outputId": "2683f78a-71d3-4da6-c4dc-26186121a2bc"
      },
      "source": [
        "!ls /content/drive/MyDrive/MTECH\\ PROJECT/root/data/hateful_memes/img_clean/ | wc -l"
      ],
      "execution_count": null,
      "outputs": [
        {
          "output_type": "stream",
          "name": "stdout",
          "text": [
            "ls: cannot access '/content/drive/MyDrive/MTECH PROJECT/root/data/hateful_memes/img_clean/': No such file or directory\n",
            "0\n"
          ]
        }
      ]
    },
    {
      "cell_type": "markdown",
      "metadata": {
        "id": "OGk0_16HLU58"
      },
      "source": [
        "RUN OID.iypnb after this"
      ]
    }
  ]
}