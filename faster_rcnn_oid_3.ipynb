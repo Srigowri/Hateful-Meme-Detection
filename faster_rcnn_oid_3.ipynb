{
  "nbformat": 4,
  "nbformat_minor": 0,
  "metadata": {
    "accelerator": "GPU",
    "colab": {
      "name": "faster_rcnn_oid_3.ipynb",
      "provenance": [],
      "collapsed_sections": []
    },
    "kernelspec": {
      "display_name": "Python 3",
      "name": "python3"
    },
    "language_info": {
      "name": "python"
    }
  },
  "cells": [
    {
      "cell_type": "code",
      "metadata": {
        "colab": {
          "base_uri": "https://localhost:8080/",
          "height": 46
        },
        "id": "-jgXZgvaHEnn",
        "outputId": "3d97b4a9-8da9-49cd-ada0-6c5d4ed5f549"
      },
      "source": [
        "import torch\n",
        "torch.__version__"
      ],
      "execution_count": null,
      "outputs": [
        {
          "output_type": "execute_result",
          "data": {
            "application/vnd.google.colaboratory.intrinsic+json": {
              "type": "string"
            },
            "text/plain": [
              "'1.9.0+cu111'"
            ]
          },
          "metadata": {},
          "execution_count": 1
        }
      ]
    },
    {
      "cell_type": "code",
      "metadata": {
        "id": "7gi9XF9l3Dk4"
      },
      "source": [
        "import os\n",
        "import glob\n",
        "import json\n",
        "import queue\n",
        "import threading\n",
        "os.environ['TF_DETERMINISTIC_OPS'] = '1'\n",
        "os.environ['TF_CUDNN_DETERMINISTIC'] = '1'\n",
        "\n",
        "import numpy as np\n",
        "import tensorflow as tf\n",
        "import tensorflow_hub as hub\n",
        "from PIL import Image"
      ],
      "execution_count": null,
      "outputs": []
    },
    {
      "cell_type": "code",
      "metadata": {
        "id": "Ev-81HGK29zs"
      },
      "source": [
        "def load_img(path):\n",
        "    img = tf.io.read_file(path)\n",
        "    img = tf.image.decode_image(img, channels=3)\n",
        "    return img\n",
        "\n",
        "\n",
        "def run_detector(detector, path):\n",
        "    img = load_img(path)\n",
        "\n",
        "    converted_img  = tf.image.convert_image_dtype(img, tf.float32)[tf.newaxis, ...]\n",
        "    result = detector(converted_img)\n",
        "\n",
        "    result = {key:value.numpy() for key,value in result.items()}\n",
        "    print(\"Found %d objects.\" % len([s for s in result[\"detection_scores\"] if s > 0.2]))\n",
        "    return result\n",
        "\n",
        "\n",
        "def run_detector_tensor(detector, converted_img):\n",
        "    result = detector(converted_img)\n",
        "    result = {key:value.numpy() for key,value in result.items()}\n",
        "    print(\"Found %d objects.\" % len([s for s in result[\"detection_scores\"] if s > 0.2]))\n",
        "    return result\n",
        "\n",
        "def pull_imgs(img_path_list, output_queue:queue.Queue):\n",
        "    for img_file in img_path_list:\n",
        "        img_tensor = load_img(img_file)\n",
        "        converted_img = tf.image.convert_image_dtype(img_tensor, tf.float32)[\n",
        "            tf.newaxis, ...]\n",
        "        print(\"[pull_imgs] \", img_file)\n",
        "        output_queue.put((converted_img, img_file))\n",
        "\n",
        "def hateful_meme(img_dir, output_path, debug=False):\n",
        "    print(\"Num GPUs Available: \", len(tf.config.experimental.list_physical_devices('GPU')))\n",
        "\n",
        "    with tf.device('/device:GPU:0'):\n",
        "        img_pattern = os.path.join(img_dir, '*.png')\n",
        "        img_files = glob.glob(img_pattern)\n",
        "        img_files = sorted(img_files)[8000:]\n",
        "\n",
        "        img_queue = queue.Queue(maxsize=16)\n",
        "        img_io_thread = threading.Thread(\n",
        "            daemon=True,\n",
        "            target=pull_imgs,\n",
        "            args=[img_files, img_queue]\n",
        "        )\n",
        "        img_io_thread.start()\n",
        "\n",
        "        if debug:\n",
        "            print('RUn in debug mode!')\n",
        "        \n",
        "        module_handle = \"https://tfhub.dev/google/faster_rcnn/openimages_v4/inception_resnet_v2/1\" \n",
        "        #param [\"https://tfhub.dev/google/openimages_v4/ssd/mobilenet_v2/1\", \"https://tfhub.dev/google/faster_rcnn/openimages_v4/inception_resnet_v2/1\"]\n",
        "        detector = hub.load(module_handle).signatures['default']\n",
        "        det_annos = []\n",
        "\n",
        "        i = 0\n",
        "        while True:\n",
        "            if debug and i > 1000:\n",
        "                break\n",
        "            if i >= len(img_files):\n",
        "                break\n",
        "            \n",
        "            tensor, img_file = img_queue.get(block=True, timeout=10)\n",
        "            \n",
        "            print(f\"[{i}/{len(img_files)}] {img_file}\")\n",
        "            result = run_detector_tensor(detector, tensor)\n",
        "            img_queue.task_done()\n",
        "\n",
        "            boxes_score = zip(\n",
        "                result[\"detection_boxes\"],\n",
        "                result[\"detection_scores\"],\n",
        "                result[\"detection_class_entities\"],\n",
        "                result[\"detection_class_labels\"])\n",
        "            boxes_score = [\n",
        "                {\n",
        "                    'ymin': float(b[0]),\n",
        "                    'xmin': float(b[1]),\n",
        "                    'ymax': float(b[2]),\n",
        "                    'xmax': float(b[3]),\n",
        "                    'score': float(s),\n",
        "                    'class_name': c.decode(\"ascii\"),\n",
        "                    'class_id': int(ci),\n",
        "                }\n",
        "                for b, s, c, ci in list(boxes_score) if s > 0.2]\n",
        "            img_name = os.path.basename(img_file)\n",
        "            det_anno = {\n",
        "                'img_name': img_name,\n",
        "                'boxes_and_score': boxes_score \n",
        "            }\n",
        "            det_annos.append(det_anno)\n",
        "            i += 1\n",
        "        \n",
        "        with open(output_path, mode='w') as output:\n",
        "            json.dump(det_annos, output)\n",
        "\n",
        "\n",
        "def test():\n",
        "    # param [\"https://tfhub.dev/google/openimages_v4/ssd/mobilenet_v2/1\", \"https://tfhub.dev/google/faster_rcnn/openimages_v4/inception_resnet_v2/1\"]\n",
        "    module_handle = \"https://tfhub.dev/google/faster_rcnn/openimages_v4/inception_resnet_v2/1\"\n",
        "    detector = hub.load(module_handle).signatures['default']\n",
        "    np.random.seed(1234)\n",
        "    img = tf.constant(np.random.normal(size=[1, 512, 512, 3]).astype(np.float32))\n",
        "    out = detector(img)\n",
        "    result = {key: value.numpy() for key, value in out.items()}\n",
        "    print(result['detection_boxes'])\n",
        "\n"
      ],
      "execution_count": null,
      "outputs": []
    },
    {
      "cell_type": "code",
      "metadata": {
        "colab": {
          "base_uri": "https://localhost:8080/"
        },
        "id": "hERJgQn5-4ei",
        "outputId": "7f39695d-6f39-4964-e60d-e38c82d788ec"
      },
      "source": [
        "from google.colab import drive\n",
        "drive.mount('/content/drive')"
      ],
      "execution_count": null,
      "outputs": [
        {
          "output_type": "stream",
          "name": "stdout",
          "text": [
            "Mounted at /content/drive\n"
          ]
        }
      ]
    },
    {
      "cell_type": "code",
      "metadata": {
        "id": "HLNABA-JKN8H"
      },
      "source": [
        "import os\n",
        "cwd = os.path.join(r'/content/drive/MyDrive/MTECH PROJECT/root','data','hateful_memes')\n",
        "\n",
        "img_dir = os.path.join(cwd,'img_clean')\n",
        "output_path = os.path.join(cwd,'box_annos.json')\n",
        "hateful_meme(img_dir,output_path)"
      ],
      "execution_count": null,
      "outputs": []
    },
    {
      "cell_type": "code",
      "metadata": {
        "id": "XSiOj1JT-u-H",
        "colab": {
          "base_uri": "https://localhost:8080/"
        },
        "outputId": "3ed106c0-49f8-4571-f50f-481490c23583"
      },
      "source": [
        "!ls /content/drive/MyDrive/MTECH\\ PROJECT/root"
      ],
      "execution_count": null,
      "outputs": [
        {
          "output_type": "stream",
          "name": "stdout",
          "text": [
            "data\t\t   inpainting_2.ipynb\t\t ocr_1.ipynb  pretrained_models\n",
            "fair_face_5.ipynb  mmdetect_img_patches_4.ipynb  oid_3.ipynb\n"
          ]
        }
      ]
    },
    {
      "cell_type": "markdown",
      "metadata": {
        "id": "asbaDwE0LVZl"
      },
      "source": [
        "1. Run mmdetection\n",
        "\n",
        "2. Fair face classifier\n",
        "\n",
        "3. Google entity recognition\n",
        "\n",
        "4. VL bert?\n",
        "\n"
      ]
    }
  ]
}