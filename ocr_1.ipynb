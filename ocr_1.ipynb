{
  "cells": [
    {
      "cell_type": "code",
      "execution_count": null,
      "metadata": {
        "id": "vinUBNwKoo63"
      },
      "outputs": [],
      "source": [
        "!pip3 install easyocr\n",
        "import easyocr"
      ]
    },
    {
      "cell_type": "code",
      "execution_count": null,
      "metadata": {
        "id": "uR278RXF-3PW"
      },
      "outputs": [],
      "source": [
        "!pip3 uninstall opencv-python-headless==4.5.5.62\n",
        "!pip3 install opencv-python-headless==4.5.2.52"
      ]
    },
    {
      "cell_type": "code",
      "execution_count": null,
      "metadata": {
        "colab": {
          "base_uri": "https://localhost:8080/"
        },
        "id": "NgwX61eXADCp",
        "outputId": "ee9c78f5-ad12-406c-feb2-c815d30a697c"
      },
      "outputs": [
        {
          "name": "stdout",
          "output_type": "stream",
          "text": [
            "Requirement already satisfied: Cython in /usr/local/lib/python3.7/dist-packages (0.29.28)\n"
          ]
        }
      ],
      "source": [
        "!pip3 install Cython"
      ]
    },
    {
      "cell_type": "code",
      "execution_count": null,
      "metadata": {
        "id": "PGR9Uev4l_9B"
      },
      "outputs": [],
      "source": [
        "import os\n",
        "import glob\n",
        "import json\n",
        "import shutil\n",
        "from multiprocessing import Pool\n",
        "\n",
        "import easyocr\n",
        "import numpy as np\n",
        "import torch\n",
        "\n",
        "from PIL import Image\n",
        "from skimage import transform\n",
        "from skimage.feature import canny\n",
        "from skimage.color import rgb2gray, gray2rgb"
      ]
    },
    {
      "cell_type": "code",
      "execution_count": null,
      "metadata": {
        "id": "ypGBchTwD-H4"
      },
      "outputs": [],
      "source": [
        "# image_path = '/content/meme.jpg'\n",
        "# reader = easyocr.Reader(['en'])\n",
        "# pred = reader.readtext(image_path)\n",
        "# pred"
      ]
    },
    {
      "cell_type": "code",
      "execution_count": null,
      "metadata": {
        "id": "kZLtv-iQmElC"
      },
      "outputs": [],
      "source": [
        "#@title\n",
        "def cast_pred_type(pred):\n",
        "    result = []\n",
        "    for tup in pred:\n",
        "        coord, txt, score = tup\n",
        "        coord = np.array(coord).tolist()\n",
        "        score = float(score)\n",
        "        result.append((coord, txt, score))\n",
        "    return result\n",
        "\n",
        "def detect(root_dir):\n",
        "    reader = easyocr.Reader(['en'])\n",
        "    image_dir = os.path.join(root_dir, 'img')\n",
        "    images = glob.glob(os.path.join(image_dir, '*.png'))\n",
        "    images += glob.glob(os.path.join(image_dir, '**', '*.png'))\n",
        "    # images = images[:3]\n",
        "\n",
        "    assert len(images) > 9000\n",
        "\n",
        "    out_json = os.path.join(root_dir, 'ocr.json')\n",
        "    out_anno = {}\n",
        "    print(f\"Find {len(images)} images!\")\n",
        "\n",
        "    for i, image_path in enumerate(images):\n",
        "        print(f\"{i}/{len(images)}\")\n",
        "        img_name = os.path.basename(image_path)\n",
        "        pred = reader.readtext(image_path)\n",
        "        out_anno[img_name] = cast_pred_type(pred)\n",
        "            \n",
        "    with open(out_json, 'w') as f:\n",
        "        json.dump(out_anno, f)"
      ]
    },
    {
      "cell_type": "code",
      "execution_count": null,
      "metadata": {
        "id": "-dQQCYY9mSuP"
      },
      "outputs": [],
      "source": [
        "#@title\n",
        "def point_to_box(ocr_json):\n",
        "    with open(ocr_json, 'r') as f:\n",
        "        ocr_anno = json.load(f)\n",
        "    \n",
        "    boxed_anno = {}\n",
        "    for k, v in ocr_anno.items():\n",
        "        img_ocr_infos = []\n",
        "        for txt_info in v:\n",
        "            coord, txt, score = txt_info\n",
        "            xmin = min([p[0] for p in coord])\n",
        "            xmax = max([p[0] for p in coord])\n",
        "            ymin = min([p[1] for p in coord])\n",
        "            ymax = max([p[1] for p in coord])\n",
        "            box = [xmin, ymin, xmax, ymax]\n",
        "            img_ocr_infos.append([box, txt, score])\n",
        "        boxed_anno[k] = img_ocr_infos\n",
        "    \n",
        "    out_path = ocr_json.replace('.json', '.box.json')\n",
        "    with open(out_path, 'w') as f:\n",
        "        json.dump(boxed_anno, f)"
      ]
    },
    {
      "cell_type": "code",
      "execution_count": null,
      "metadata": {
        "id": "bRWb-mcrAr3N"
      },
      "outputs": [],
      "source": [
        "import matplotlib.pyplot as plt"
      ]
    },
    {
      "cell_type": "code",
      "execution_count": null,
      "metadata": {
        "id": "oQrPoE5al11k"
      },
      "outputs": [],
      "source": [
        "#@title\n",
        "def multi_boxes_mask(image, boxes, pad_crop=5):\n",
        "    \"\"\"\n",
        "    image: np.uint8 (h, w, c)\n",
        "    boxes: np.int32 (n, 4) ymin, xmin, ymax, xmax\n",
        "    \"\"\"\n",
        "    image = image.copy()\n",
        "    mask = np.zeros_like(image)\n",
        "    ih, iw, ic = image.shape\n",
        "    resize = lambda a, b: transform.resize(a, b, preserve_range=True).astype(np.uint8)\n",
        "    \n",
        "    \n",
        "    for box in boxes:\n",
        "        # image[box[0]: box[2], box[1]: box[3], :] = 0\n",
        "        box[:2] = np.maximum(box[:2] - pad_crop, 0)\n",
        "        box[2:] = np.minimum(box[2:] + pad_crop, image.shape[:2])\n",
        "        \n",
        "        patch = image[box[0]: box[2], box[1]: box[3], :]\n",
        "        pure_white = (patch > 253).all(axis=-1).astype(np.uint8)\n",
        "        mask[box[0]: box[2], box[1]: box[3], :] = pure_white[..., None]\n",
        "        \n",
        "        # plt.subplot(2, 1, 1)\n",
        "        # plt.imshow(patch)\n",
        "        # plt.subplot(2, 1, 2)\n",
        "        # plt.imshow(pure_white)\n",
        "        # plt.colorbar()\n",
        "        # plt.show()\n",
        "        \n",
        "        # print('pure_white ', pure_white.sum())\n",
        "    \n",
        "    shift = 3\n",
        "    shifts = [\n",
        "        (0, 0), (shift, 0), (-shift, 0), (0, shift), (0, -shift),\n",
        "        (shift, shift), (-shift, shift), (shift, -shift), (-shift, -shift)\n",
        "    ]\n",
        "    # shifts = []\n",
        "    for offset in shifts:\n",
        "        ox, oy = offset\n",
        "        _mask = mask.copy()\n",
        "\n",
        "        slice_y = slice(max(0, 0 + oy), min(ih, ih + oy))\n",
        "        slice_x = slice(max(0, 0 + ox), min(iw, iw + ox))\n",
        "        # print(slice_y, slice_x)\n",
        "        _mask = _mask[\n",
        "            max(0, 0 + oy): min(ih, ih + oy),\n",
        "            max(0, 0 + ox): min(iw, iw + ox),\n",
        "            :\n",
        "        ]\n",
        "        crop_pad = [\n",
        "            (max(0, -oy), max(0, oy)),\n",
        "            (max(0, -ox), max(0, ox)),\n",
        "            (0, 0)\n",
        "        ]\n",
        "        _mask = np.pad(_mask, crop_pad)\n",
        "        print(\n",
        "            crop_pad,\n",
        "            np.abs(_mask - mask).sum(),\n",
        "            np.abs(mask - np.clip(_mask + mask, 0, 1)).sum()\n",
        "        )\n",
        "        mask = np.clip(_mask + mask, 0, 1)\n",
        "\n",
        "    image = image * (1 - mask) + mask * 255 * 0\n",
        "    mask *= 255\n",
        "    return image, mask\n",
        "\n",
        "\n",
        "def _mask_white_txt(args):\n",
        "    img_name, img_boxes, img_dir, out_dir = args\n",
        "    img_path = os.path.join(img_dir, img_name)\n",
        "    out_path = os.path.join(out_dir, img_name)\n",
        "    \n",
        "    if os.path.exists(out_path):\n",
        "        return\n",
        "    # if img_name != '01487.png':\n",
        "    #     continue\n",
        "    \n",
        "    img_boxes = [box_info[0] for box_info in img_boxes]\n",
        "    if len(img_boxes) > 0:\n",
        "        boxes = np.asarray(img_boxes, dtype=np.int32)\n",
        "        # print(boxes)\n",
        "        boxes = np.concatenate([boxes[:, ::-1][:, 2:], boxes[:,::-1][:, :2]], axis=1)\n",
        "        # print(boxes)\n",
        "        # x,y,x,y -> y,x,y,x\n",
        "        img = np.array(Image.open(img_path).convert('RGB'))\n",
        "        # res = inpaint_model.inpaint_multi_boxes(img, boxes)\n",
        "        masked_img, mask = multi_boxes_mask(img, boxes)\n",
        "\n",
        "        Image.fromarray(masked_img).save(out_path)\n",
        "        out_path = os.path.join(out_dir, img_name.replace('.png', '.mask.png'))\n",
        "        Image.fromarray(mask).save(out_path)\n",
        "    else:\n",
        "        img = np.asarray(Image.open(img_path).convert('RGB'))\n",
        "        shutil.copy(img_path, out_path)\n",
        "\n",
        "        mask = np.zeros_like(img)\n",
        "        out_path = os.path.join(out_dir, img_name.replace('.png', '.mask.png'))\n",
        "        Image.fromarray(mask).save(out_path)\n",
        "\n",
        "def generate_mask(ocr_box_anno, img_dir, out_dir):\n",
        "    os.makedirs(out_dir, exist_ok=True)\n",
        "    with open(ocr_box_anno, 'r') as f:\n",
        "        boxes_anno = json.load(f)\n",
        "\n",
        "    # for i, (img_name, img_boxes) in enumerate(boxes_anno.items()):\n",
        "    #     pass\n",
        "    \n",
        "    with Pool(16) as pool:\n",
        "        args = [\n",
        "            (img_name, img_boxes, img_dir, out_dir)\n",
        "            for img_name, img_boxes in boxes_anno.items()\n",
        "        ]\n",
        "        pool.map(_mask_white_txt, args)"
      ]
    },
    {
      "cell_type": "code",
      "execution_count": null,
      "metadata": {
        "id": "jwzNJa2Ymas6",
        "colab": {
          "base_uri": "https://localhost:8080/"
        },
        "outputId": "1f5993fa-dca1-4810-a0f5-de214cba82eb"
      },
      "outputs": [
        {
          "output_type": "stream",
          "name": "stdout",
          "text": [
            "Mounted at /content/drive\n"
          ]
        }
      ],
      "source": [
        "from google.colab import drive\n",
        "drive.mount('/content/drive')"
      ]
    },
    {
      "cell_type": "code",
      "execution_count": null,
      "metadata": {
        "id": "mEalOLBumuG-",
        "colab": {
          "base_uri": "https://localhost:8080/"
        },
        "outputId": "037e70c4-4638-460e-d5e8-92a8345538ab"
      },
      "outputs": [
        {
          "output_type": "stream",
          "name": "stdout",
          "text": [
            "apex\t\t\t\t\t      mmedit_inpainting_2.ipynb\n",
            "checkpoints\t\t\t\t      multimodal-6.ipynb\n",
            "data\t\t\t\t\t      ocr_1.ipynb\n",
            "fair_face_classifier_5.ipynb\t\t      output\n",
            "faster_rcnn_oid_3.ipynb\t\t\t      pretrain_model\n",
            "mmdetect_img_patches_didntwork_notused.ipynb  VL-BERT\n"
          ]
        }
      ],
      "source": [
        "!ls /content/drive/MyDrive/AHATEFULMEME/root"
      ]
    },
    {
      "cell_type": "code",
      "execution_count": null,
      "metadata": {
        "id": "ItdzYYNenr1l",
        "colab": {
          "base_uri": "https://localhost:8080/"
        },
        "outputId": "255ff52c-90d6-4f74-9e5a-5676c5abcdb0"
      },
      "outputs": [
        {
          "output_type": "stream",
          "name": "stdout",
          "text": [
            "None\n",
            "/content/drive/MyDrive/AHATEFULMEME/root\n"
          ]
        }
      ],
      "source": [
        "import os\n",
        "print(os.chdir(r'/content/drive/MyDrive/AHATEFULMEME/root'))\n",
        "print(os.getcwd())"
      ]
    },
    {
      "cell_type": "code",
      "execution_count": null,
      "metadata": {
        "id": "hPzukrLaoTDz",
        "colab": {
          "base_uri": "https://localhost:8080/",
          "height": 35
        },
        "outputId": "131a39d8-ea64-4524-ffef-843116dce603"
      },
      "outputs": [
        {
          "output_type": "execute_result",
          "data": {
            "text/plain": [
              "'/content/drive/MyDrive/AHATEFULMEME/root/data/hateful_memes'"
            ],
            "application/vnd.google.colaboratory.intrinsic+json": {
              "type": "string"
            }
          },
          "metadata": {},
          "execution_count": 13
        }
      ],
      "source": [
        "cwd = os.path.join(os.getcwd(),'data','hateful_memes')\n",
        "cwd"
      ]
    },
    {
      "cell_type": "markdown",
      "metadata": {
        "id": "MNuJW3Q3o2lq"
      },
      "source": [
        "**DETECT: Text and coordinates**"
      ]
    },
    {
      "cell_type": "code",
      "execution_count": null,
      "metadata": {
        "id": "nczW4ElBmWF6"
      },
      "outputs": [],
      "source": [
        "cwd = os.path.join(os.getcwd(),'data','hateful_memes')\n",
        "detect(cwd)\n",
        "print(\"Done detecting text\")"
      ]
    },
    {
      "cell_type": "markdown",
      "metadata": {
        "id": "rMRQvf39o7wz"
      },
      "source": [
        "**Cooridinates to Bounding boxes**"
      ]
    },
    {
      "cell_type": "code",
      "execution_count": null,
      "metadata": {
        "colab": {
          "base_uri": "https://localhost:8080/"
        },
        "id": "d194jIIeoeWi",
        "outputId": "129b9e47-0cdc-4bb4-840e-89da357ad3a4"
      },
      "outputs": [
        {
          "name": "stdout",
          "output_type": "stream",
          "text": [
            "/content/drive/MyDrive/MTECH PROJECT/root/data/hateful_memes/ocr.json\n"
          ]
        }
      ],
      "source": [
        "ocr_json = os.path.join(cwd,'ocr.json')\n",
        "print(ocr_json)\n",
        "point_to_box(ocr_json)\n",
        "print(\"Done point to box\")"
      ]
    },
    {
      "cell_type": "markdown",
      "metadata": {
        "id": "9fLX_aj7pFyy"
      },
      "source": [
        "**Geneate the masks**"
      ]
    },
    {
      "cell_type": "code",
      "execution_count": null,
      "metadata": {
        "colab": {
          "background_save": true
        },
        "id": "Xkdiy0Hiofhe"
      },
      "outputs": [],
      "source": [
        "generate_mask(\n",
        "    os.path.join(cwd,'ocr.box.json'),\n",
        "    os.path.join(cwd,'img'),\n",
        "    os.path.join(cwd,'img_mask_3px')\n",
        ")"
      ]
    }
  ],
  "metadata": {
    "accelerator": "GPU",
    "colab": {
      "collapsed_sections": [],
      "machine_shape": "hm",
      "name": "ocr_1.ipynb",
      "provenance": []
    },
    "kernelspec": {
      "display_name": "Python 3",
      "name": "python3"
    },
    "language_info": {
      "name": "python"
    }
  },
  "nbformat": 4,
  "nbformat_minor": 0
}